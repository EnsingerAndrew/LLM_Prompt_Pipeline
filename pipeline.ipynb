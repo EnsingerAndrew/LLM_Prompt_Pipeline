{
 "cells": [
  {
   "cell_type": "markdown",
   "metadata": {},
   "source": [
    "Testing Model"
   ]
  },
  {
   "cell_type": "code",
   "execution_count": 1,
   "metadata": {},
   "outputs": [
    {
     "name": "stdout",
     "output_type": "stream",
     "text": [
      "Easy ones!\n",
      "\n",
      "The capital of the United States of America is Washington, D.C. (short for District of Columbia).\n",
      "\n",
      "And the capital of Italy is Rome (Italian: Roma).\n"
     ]
    }
   ],
   "source": [
    "from ollama import chat\n",
    "from ollama import ChatResponse\n",
    "\n",
    "response: ChatResponse = chat(model='llama3', messages=[\n",
    "  {\n",
    "    'role': 'user',\n",
    "    'content': 'What is the capital of the United States of America?',\n",
    "  },\n",
    "  {\n",
    "    'role': 'user',\n",
    "    'content': 'What is the capital of the Italy?',\n",
    "  }\n",
    "])\n",
    "\n",
    "print(response.message.content)"
   ]
  },
  {
   "cell_type": "markdown",
   "metadata": {},
   "source": [
    "Dataset Preparation"
   ]
  },
  {
   "cell_type": "code",
   "execution_count": 2,
   "metadata": {},
   "outputs": [],
   "source": [
    "import torch \n",
    "\n",
    "countries = [\n",
    "    \"United States\", \"Canada\", \"Mexico\", \"Brazil\", \"Argentina\", \"United Kingdom\", \"Germany\", \"France\", \n",
    "    \"Italy\", \"Spain\", \"Netherlands\", \"Sweden\", \"Norway\", \"Denmark\", \"Finland\", \"Russia\", \"China\", \"Japan\", \n",
    "    \"South Korea\", \"India\", \"Australia\", \"New Zealand\", \"South Africa\", \"Egypt\", \"Nigeria\", \"Kenya\", \n",
    "    \"Saudi Arabia\", \"Turkey\", \"Indonesia\", \"Thailand\"\n",
    "]\n",
    "torch.save(countries,\"llm_inputs.pth\")"
   ]
  },
  {
   "cell_type": "markdown",
   "metadata": {},
   "source": [
    "Feeding Model Inputs"
   ]
  },
  {
   "cell_type": "code",
   "execution_count": 1,
   "metadata": {},
   "outputs": [
    {
     "name": "stdout",
     "output_type": "stream",
     "text": [
      "len(llm_inputs): 30\n"
     ]
    },
    {
     "name": "stderr",
     "output_type": "stream",
     "text": [
      "Processing:   3%|▎         | 1/30 [00:09<04:24,  9.13s/it]"
     ]
    },
    {
     "name": "stdout",
     "output_type": "stream",
     "text": [
      "..................................................................................................................\n",
      "The capital of the United States is Washington, D.C. It serves as the nation's seat of government and houses important federal institutions such as the White House, Congress (the Capitol), and the Supreme Court.\n"
     ]
    },
    {
     "name": "stderr",
     "output_type": "stream",
     "text": [
      "Processing:   7%|▋         | 2/30 [00:15<03:33,  7.63s/it]"
     ]
    },
    {
     "name": "stdout",
     "output_type": "stream",
     "text": [
      "..................................................................................................................\n",
      "The capital of Canada is Ottawa. It is located in the province of Ontario, along the Ottawa River opposite Gatineau, Quebec.\n"
     ]
    },
    {
     "name": "stderr",
     "output_type": "stream",
     "text": [
      "Processing:  10%|█         | 3/30 [00:18<02:26,  5.41s/it]"
     ]
    },
    {
     "name": "stdout",
     "output_type": "stream",
     "text": [
      "..................................................................................................................\n",
      "The capital of Mexico is Mexico City.\n"
     ]
    },
    {
     "name": "stderr",
     "output_type": "stream",
     "text": [
      "Processing:  13%|█▎        | 4/30 [00:30<03:31,  8.14s/it]"
     ]
    },
    {
     "name": "stdout",
     "output_type": "stream",
     "text": [
      "..................................................................................................................\n",
      "The capital of Brazil is Brasília. It was officially inaugurated as the capital on April 21, 1960, and was planned and developed to move the capital from Rio de Janeiro to a more central location within the country.\n"
     ]
    },
    {
     "name": "stderr",
     "output_type": "stream",
     "text": [
      "Processing:  17%|█▋        | 5/30 [00:37<03:13,  7.73s/it]"
     ]
    },
    {
     "name": "stdout",
     "output_type": "stream",
     "text": [
      "..................................................................................................................\n",
      "The capital of Argentina is Buenos Aires. It's not only the largest city in the country but also an important cultural and economic hub in South America.\n",
      "\n"
     ]
    },
    {
     "name": "stderr",
     "output_type": "stream",
     "text": [
      "Processing:  20%|██        | 6/30 [00:40<02:25,  6.06s/it]"
     ]
    },
    {
     "name": "stdout",
     "output_type": "stream",
     "text": [
      "..................................................................................................................\n",
      "The capital of the United Kingdom is London.\n"
     ]
    },
    {
     "name": "stderr",
     "output_type": "stream",
     "text": [
      "Processing:  23%|██▎       | 7/30 [00:48<02:29,  6.50s/it]"
     ]
    },
    {
     "name": "stdout",
     "output_type": "stream",
     "text": [
      "..................................................................................................................\n",
      "The capital of Germany is Berlin. It is not only the largest city in the country but also a major cultural, political, and economic center.\n"
     ]
    },
    {
     "name": "stderr",
     "output_type": "stream",
     "text": [
      "Processing:  27%|██▋       | 8/30 [00:50<01:53,  5.15s/it]"
     ]
    },
    {
     "name": "stdout",
     "output_type": "stream",
     "text": [
      "..................................................................................................................\n",
      "The capital of France is Paris.\n"
     ]
    },
    {
     "name": "stderr",
     "output_type": "stream",
     "text": [
      "Processing:  30%|███       | 9/30 [00:52<01:29,  4.25s/it]"
     ]
    },
    {
     "name": "stdout",
     "output_type": "stream",
     "text": [
      "..................................................................................................................\n",
      "The capital of Italy is Rome.\n"
     ]
    },
    {
     "name": "stderr",
     "output_type": "stream",
     "text": [
      "Processing:  33%|███▎      | 10/30 [00:54<01:13,  3.67s/it]"
     ]
    },
    {
     "name": "stdout",
     "output_type": "stream",
     "text": [
      "..................................................................................................................\n",
      "The capital of Spain is Madrid.\n"
     ]
    },
    {
     "name": "stderr",
     "output_type": "stream",
     "text": [
      "Processing:  37%|███▋      | 11/30 [01:10<02:17,  7.26s/it]"
     ]
    },
    {
     "name": "stdout",
     "output_type": "stream",
     "text": [
      "..................................................................................................................\n",
      "The capital of the Netherlands is Amsterdam. However, it's worth noting that while Amsterdam is the largest city and often associated with the country, the Dutch government officially moved to The Hague (Den Haag) in 1983. The Hague now hosts the seat of the Dutch parliament and the official residence of the King of the Netherlands.\n"
     ]
    },
    {
     "name": "stderr",
     "output_type": "stream",
     "text": [
      "Processing:  40%|████      | 12/30 [01:12<01:43,  5.77s/it]"
     ]
    },
    {
     "name": "stdout",
     "output_type": "stream",
     "text": [
      "..................................................................................................................\n",
      "The capital of Sweden is Stockholm.\n"
     ]
    },
    {
     "name": "stderr",
     "output_type": "stream",
     "text": [
      "Processing:  43%|████▎     | 13/30 [01:15<01:21,  4.77s/it]"
     ]
    },
    {
     "name": "stdout",
     "output_type": "stream",
     "text": [
      "..................................................................................................................\n",
      "The capital of Norway is Oslo.\n"
     ]
    },
    {
     "name": "stderr",
     "output_type": "stream",
     "text": [
      "Processing:  47%|████▋     | 14/30 [01:17<01:04,  4.05s/it]"
     ]
    },
    {
     "name": "stdout",
     "output_type": "stream",
     "text": [
      "..................................................................................................................\n",
      "The capital of Denmark is Copenhagen.\n"
     ]
    },
    {
     "name": "stderr",
     "output_type": "stream",
     "text": [
      "Processing:  50%|█████     | 15/30 [01:19<00:52,  3.53s/it]"
     ]
    },
    {
     "name": "stdout",
     "output_type": "stream",
     "text": [
      "..................................................................................................................\n",
      "The capital of Finland is Helsinki.\n"
     ]
    },
    {
     "name": "stderr",
     "output_type": "stream",
     "text": [
      "Processing:  53%|█████▎    | 16/30 [01:22<00:44,  3.15s/it]"
     ]
    },
    {
     "name": "stdout",
     "output_type": "stream",
     "text": [
      "..................................................................................................................\n",
      "The capital of Russia is Moscow.\n"
     ]
    },
    {
     "name": "stderr",
     "output_type": "stream",
     "text": [
      "Processing:  57%|█████▋    | 17/30 [01:24<00:37,  2.86s/it]"
     ]
    },
    {
     "name": "stdout",
     "output_type": "stream",
     "text": [
      "..................................................................................................................\n",
      "The capital of China is Beijing.\n"
     ]
    },
    {
     "name": "stderr",
     "output_type": "stream",
     "text": [
      "Processing:  60%|██████    | 18/30 [01:26<00:32,  2.74s/it]"
     ]
    },
    {
     "name": "stdout",
     "output_type": "stream",
     "text": [
      "..................................................................................................................\n",
      "The capital of Japan is Tokyo.\n"
     ]
    },
    {
     "name": "stderr",
     "output_type": "stream",
     "text": [
      "Processing:  63%|██████▎   | 19/30 [01:29<00:29,  2.71s/it]"
     ]
    },
    {
     "name": "stdout",
     "output_type": "stream",
     "text": [
      "..................................................................................................................\n",
      "The capital of South Korea is Seoul.\n"
     ]
    },
    {
     "name": "stderr",
     "output_type": "stream",
     "text": [
      "Processing:  67%|██████▋   | 20/30 [01:40<00:51,  5.18s/it]"
     ]
    },
    {
     "name": "stdout",
     "output_type": "stream",
     "text": [
      "..................................................................................................................\n",
      "The capital of India is New Delhi. It serves as the seat of all three branches of the Government of India, hosting the Rashtrapati Bhavan (the Presidential Residence), Parliament House, and the Supreme Court of India.\n"
     ]
    },
    {
     "name": "stderr",
     "output_type": "stream",
     "text": [
      "Processing:  70%|███████   | 21/30 [01:54<01:11,  7.93s/it]"
     ]
    },
    {
     "name": "stdout",
     "output_type": "stream",
     "text": [
      "..................................................................................................................\n",
      "The capital of Australia is Canberra. It was chosen as the capital in 1908 as a compromise between the two largest cities, Sydney and Melbourne. Canberra is located in the Australian Capital Territory (ACT) and serves as the political center of the nation, housing important institutions such as Parliament House and numerous government departments.\n"
     ]
    },
    {
     "name": "stderr",
     "output_type": "stream",
     "text": [
      "Processing:  73%|███████▎  | 22/30 [01:57<00:50,  6.35s/it]"
     ]
    },
    {
     "name": "stdout",
     "output_type": "stream",
     "text": [
      "..................................................................................................................\n",
      "The capital of New Zealand is Wellington.\n"
     ]
    },
    {
     "name": "stderr",
     "output_type": "stream",
     "text": [
      "Processing:  77%|███████▋  | 23/30 [02:13<01:05,  9.36s/it]"
     ]
    },
    {
     "name": "stdout",
     "output_type": "stream",
     "text": [
      "..................................................................................................................\n",
      "South Africa has three capital cities, each serving a different purpose:\n",
      "\n",
      "1. **Pretoria** - Executive (administrative) capital.\n",
      "2. **Bloemfontein** - Judicial capital.\n",
      "3. **Cape Town** - Legislative capital.\n",
      "\n",
      "These capitals reflect the country's system of government by having separate centers for executive, judicial, and legislative functions.\n"
     ]
    },
    {
     "name": "stderr",
     "output_type": "stream",
     "text": [
      "Processing:  80%|████████  | 24/30 [02:16<00:44,  7.37s/it]"
     ]
    },
    {
     "name": "stdout",
     "output_type": "stream",
     "text": [
      "..................................................................................................................\n",
      "The capital of Egypt is Cairo.\n"
     ]
    },
    {
     "name": "stderr",
     "output_type": "stream",
     "text": [
      "Processing:  83%|████████▎ | 25/30 [02:26<00:41,  8.30s/it]"
     ]
    },
    {
     "name": "stdout",
     "output_type": "stream",
     "text": [
      "..................................................................................................................\n",
      "The capital city of Nigeria is Abuja. It officially became the capital in 1991, replacing Lagos as the nation's administrative center. Abuja was chosen for its central location and to help ease congestion in Lagos.\n"
     ]
    },
    {
     "name": "stderr",
     "output_type": "stream",
     "text": [
      "Processing:  87%|████████▋ | 26/30 [02:29<00:26,  6.54s/it]"
     ]
    },
    {
     "name": "stdout",
     "output_type": "stream",
     "text": [
      "..................................................................................................................\n",
      "The capital of Kenya is Nairobi.\n"
     ]
    },
    {
     "name": "stderr",
     "output_type": "stream",
     "text": [
      "Processing:  90%|█████████ | 27/30 [02:31<00:16,  5.34s/it]"
     ]
    },
    {
     "name": "stdout",
     "output_type": "stream",
     "text": [
      "..................................................................................................................\n",
      "The capital of Saudi Arabia is Riyadh.\n"
     ]
    },
    {
     "name": "stderr",
     "output_type": "stream",
     "text": [
      "Processing:  93%|█████████▎| 28/30 [02:34<00:08,  4.40s/it]"
     ]
    },
    {
     "name": "stdout",
     "output_type": "stream",
     "text": [
      "..................................................................................................................\n",
      "The capital of Turkey is Ankara.\n"
     ]
    },
    {
     "name": "stderr",
     "output_type": "stream",
     "text": [
      "Processing:  97%|█████████▋| 29/30 [02:36<00:03,  3.71s/it]"
     ]
    },
    {
     "name": "stdout",
     "output_type": "stream",
     "text": [
      "..................................................................................................................\n",
      "The capital of Indonesia is Jakarta.\n"
     ]
    },
    {
     "name": "stderr",
     "output_type": "stream",
     "text": [
      "Processing: 100%|██████████| 30/30 [02:38<00:00,  5.28s/it]"
     ]
    },
    {
     "name": "stdout",
     "output_type": "stream",
     "text": [
      "..................................................................................................................\n",
      "The capital of Thailand is Bangkok.\n",
      "llm_outputs: [\"The capital of the United States is Washington, D.C. It serves as the nation's seat of government and houses important federal institutions such as the White House, Congress (the Capitol), and the Supreme Court.\", 'The capital of Canada is Ottawa. It is located in the province of Ontario, along the Ottawa River opposite Gatineau, Quebec.', 'The capital of Mexico is Mexico City.', 'The capital of Brazil is Brasília. It was officially inaugurated as the capital on April 21, 1960, and was planned and developed to move the capital from Rio de Janeiro to a more central location within the country.', \"The capital of Argentina is Buenos Aires. It's not only the largest city in the country but also an important cultural and economic hub in South America.\\n\", 'The capital of the United Kingdom is London.', 'The capital of Germany is Berlin. It is not only the largest city in the country but also a major cultural, political, and economic center.', 'The capital of France is Paris.', 'The capital of Italy is Rome.', 'The capital of Spain is Madrid.', \"The capital of the Netherlands is Amsterdam. However, it's worth noting that while Amsterdam is the largest city and often associated with the country, the Dutch government officially moved to The Hague (Den Haag) in 1983. The Hague now hosts the seat of the Dutch parliament and the official residence of the King of the Netherlands.\", 'The capital of Sweden is Stockholm.', 'The capital of Norway is Oslo.', 'The capital of Denmark is Copenhagen.', 'The capital of Finland is Helsinki.', 'The capital of Russia is Moscow.', 'The capital of China is Beijing.', 'The capital of Japan is Tokyo.', 'The capital of South Korea is Seoul.', 'The capital of India is New Delhi. It serves as the seat of all three branches of the Government of India, hosting the Rashtrapati Bhavan (the Presidential Residence), Parliament House, and the Supreme Court of India.', 'The capital of Australia is Canberra. It was chosen as the capital in 1908 as a compromise between the two largest cities, Sydney and Melbourne. Canberra is located in the Australian Capital Territory (ACT) and serves as the political center of the nation, housing important institutions such as Parliament House and numerous government departments.', 'The capital of New Zealand is Wellington.', \"South Africa has three capital cities, each serving a different purpose:\\n\\n1. **Pretoria** - Executive (administrative) capital.\\n2. **Bloemfontein** - Judicial capital.\\n3. **Cape Town** - Legislative capital.\\n\\nThese capitals reflect the country's system of government by having separate centers for executive, judicial, and legislative functions.\", 'The capital of Egypt is Cairo.', \"The capital city of Nigeria is Abuja. It officially became the capital in 1991, replacing Lagos as the nation's administrative center. Abuja was chosen for its central location and to help ease congestion in Lagos.\", 'The capital of Kenya is Nairobi.', 'The capital of Saudi Arabia is Riyadh.', 'The capital of Turkey is Ankara.', 'The capital of Indonesia is Jakarta.', 'The capital of Thailand is Bangkok.']\n"
     ]
    },
    {
     "name": "stderr",
     "output_type": "stream",
     "text": [
      "\n"
     ]
    }
   ],
   "source": [
    "import torch \n",
    "from tqdm import tqdm\n",
    "from ollama import chat\n",
    "from ollama import ChatResponse\n",
    "import ollama\n",
    "\n",
    "llm_inputs = torch.load(\"llm_inputs.pth\")\n",
    "print(\"len(llm_inputs):\",len(llm_inputs))\n",
    "query_header = \"what is the capital of this country:\"    \n",
    "\n",
    "llm_outputs = []\n",
    "for i in tqdm(range(len(llm_inputs)), desc=\"Processing\"):\n",
    "    llm_input = query_header + llm_inputs[i]\n",
    "\n",
    "    response = ollama.chat(model='phi4', messages=[{'role': 'user', 'content': llm_input}])\n",
    "\n",
    "    # response: ChatResponse = chat(model='phi4', messages=[{'role': 'user', 'content': llm_input}])\n",
    "    llm_output = response.message.content\n",
    "    llm_outputs.append(llm_output)\n",
    "\n",
    "    print(\"..................................................................................................................\")\n",
    "    print(llm_output)\n",
    "\n",
    "\n",
    "torch.save(llm_outputs,\"llm_outputs.pth\")\n",
    "print(\"llm_outputs:\",llm_outputs)"
   ]
  },
  {
   "cell_type": "markdown",
   "metadata": {},
   "source": [
    "Observing Outputs"
   ]
  },
  {
   "cell_type": "code",
   "execution_count": 2,
   "metadata": {},
   "outputs": [
    {
     "name": "stdout",
     "output_type": "stream",
     "text": [
      "##################################################################################################\n",
      "United States\n",
      "..................................................................................................\n",
      "The capital of the United States is Washington, D.C. It serves as the nation's seat of government and houses important federal institutions such as the White House, Congress (the Capitol), and the Supreme Court.\n",
      "##################################################################################################\n",
      "\n",
      "\n",
      "\n",
      "##################################################################################################\n",
      "Canada\n",
      "..................................................................................................\n",
      "The capital of Canada is Ottawa. It is located in the province of Ontario, along the Ottawa River opposite Gatineau, Quebec.\n",
      "##################################################################################################\n",
      "\n",
      "\n",
      "\n",
      "##################################################################################################\n",
      "Mexico\n",
      "..................................................................................................\n",
      "The capital of Mexico is Mexico City.\n",
      "##################################################################################################\n",
      "\n",
      "\n",
      "\n",
      "##################################################################################################\n",
      "Brazil\n",
      "..................................................................................................\n",
      "The capital of Brazil is Brasília. It was officially inaugurated as the capital on April 21, 1960, and was planned and developed to move the capital from Rio de Janeiro to a more central location within the country.\n",
      "##################################################################################################\n",
      "\n",
      "\n",
      "\n",
      "##################################################################################################\n",
      "Argentina\n",
      "..................................................................................................\n",
      "The capital of Argentina is Buenos Aires. It's not only the largest city in the country but also an important cultural and economic hub in South America.\n",
      "\n",
      "##################################################################################################\n",
      "\n",
      "\n",
      "\n",
      "##################################################################################################\n",
      "United Kingdom\n",
      "..................................................................................................\n",
      "The capital of the United Kingdom is London.\n",
      "##################################################################################################\n",
      "\n",
      "\n",
      "\n",
      "##################################################################################################\n",
      "Germany\n",
      "..................................................................................................\n",
      "The capital of Germany is Berlin. It is not only the largest city in the country but also a major cultural, political, and economic center.\n",
      "##################################################################################################\n",
      "\n",
      "\n",
      "\n",
      "##################################################################################################\n",
      "France\n",
      "..................................................................................................\n",
      "The capital of France is Paris.\n",
      "##################################################################################################\n",
      "\n",
      "\n",
      "\n",
      "##################################################################################################\n",
      "Italy\n",
      "..................................................................................................\n",
      "The capital of Italy is Rome.\n",
      "##################################################################################################\n",
      "\n",
      "\n",
      "\n",
      "##################################################################################################\n",
      "Spain\n",
      "..................................................................................................\n",
      "The capital of Spain is Madrid.\n",
      "##################################################################################################\n",
      "\n",
      "\n",
      "\n",
      "##################################################################################################\n",
      "Netherlands\n",
      "..................................................................................................\n",
      "The capital of the Netherlands is Amsterdam. However, it's worth noting that while Amsterdam is the largest city and often associated with the country, the Dutch government officially moved to The Hague (Den Haag) in 1983. The Hague now hosts the seat of the Dutch parliament and the official residence of the King of the Netherlands.\n",
      "##################################################################################################\n",
      "\n",
      "\n",
      "\n",
      "##################################################################################################\n",
      "Sweden\n",
      "..................................................................................................\n",
      "The capital of Sweden is Stockholm.\n",
      "##################################################################################################\n",
      "\n",
      "\n",
      "\n",
      "##################################################################################################\n",
      "Norway\n",
      "..................................................................................................\n",
      "The capital of Norway is Oslo.\n",
      "##################################################################################################\n",
      "\n",
      "\n",
      "\n",
      "##################################################################################################\n",
      "Denmark\n",
      "..................................................................................................\n",
      "The capital of Denmark is Copenhagen.\n",
      "##################################################################################################\n",
      "\n",
      "\n",
      "\n",
      "##################################################################################################\n",
      "Finland\n",
      "..................................................................................................\n",
      "The capital of Finland is Helsinki.\n",
      "##################################################################################################\n",
      "\n",
      "\n",
      "\n",
      "##################################################################################################\n",
      "Russia\n",
      "..................................................................................................\n",
      "The capital of Russia is Moscow.\n",
      "##################################################################################################\n",
      "\n",
      "\n",
      "\n",
      "##################################################################################################\n",
      "China\n",
      "..................................................................................................\n",
      "The capital of China is Beijing.\n",
      "##################################################################################################\n",
      "\n",
      "\n",
      "\n",
      "##################################################################################################\n",
      "Japan\n",
      "..................................................................................................\n",
      "The capital of Japan is Tokyo.\n",
      "##################################################################################################\n",
      "\n",
      "\n",
      "\n",
      "##################################################################################################\n",
      "South Korea\n",
      "..................................................................................................\n",
      "The capital of South Korea is Seoul.\n",
      "##################################################################################################\n",
      "\n",
      "\n",
      "\n",
      "##################################################################################################\n",
      "India\n",
      "..................................................................................................\n",
      "The capital of India is New Delhi. It serves as the seat of all three branches of the Government of India, hosting the Rashtrapati Bhavan (the Presidential Residence), Parliament House, and the Supreme Court of India.\n",
      "##################################################################################################\n",
      "\n",
      "\n",
      "\n",
      "##################################################################################################\n",
      "Australia\n",
      "..................................................................................................\n",
      "The capital of Australia is Canberra. It was chosen as the capital in 1908 as a compromise between the two largest cities, Sydney and Melbourne. Canberra is located in the Australian Capital Territory (ACT) and serves as the political center of the nation, housing important institutions such as Parliament House and numerous government departments.\n",
      "##################################################################################################\n",
      "\n",
      "\n",
      "\n",
      "##################################################################################################\n",
      "New Zealand\n",
      "..................................................................................................\n",
      "The capital of New Zealand is Wellington.\n",
      "##################################################################################################\n",
      "\n",
      "\n",
      "\n",
      "##################################################################################################\n",
      "South Africa\n",
      "..................................................................................................\n",
      "South Africa has three capital cities, each serving a different purpose:\n",
      "\n",
      "1. **Pretoria** - Executive (administrative) capital.\n",
      "2. **Bloemfontein** - Judicial capital.\n",
      "3. **Cape Town** - Legislative capital.\n",
      "\n",
      "These capitals reflect the country's system of government by having separate centers for executive, judicial, and legislative functions.\n",
      "##################################################################################################\n",
      "\n",
      "\n",
      "\n",
      "##################################################################################################\n",
      "Egypt\n",
      "..................................................................................................\n",
      "The capital of Egypt is Cairo.\n",
      "##################################################################################################\n",
      "\n",
      "\n",
      "\n",
      "##################################################################################################\n",
      "Nigeria\n",
      "..................................................................................................\n",
      "The capital city of Nigeria is Abuja. It officially became the capital in 1991, replacing Lagos as the nation's administrative center. Abuja was chosen for its central location and to help ease congestion in Lagos.\n",
      "##################################################################################################\n",
      "\n",
      "\n",
      "\n",
      "##################################################################################################\n",
      "Kenya\n",
      "..................................................................................................\n",
      "The capital of Kenya is Nairobi.\n",
      "##################################################################################################\n",
      "\n",
      "\n",
      "\n",
      "##################################################################################################\n",
      "Saudi Arabia\n",
      "..................................................................................................\n",
      "The capital of Saudi Arabia is Riyadh.\n",
      "##################################################################################################\n",
      "\n",
      "\n",
      "\n",
      "##################################################################################################\n",
      "Turkey\n",
      "..................................................................................................\n",
      "The capital of Turkey is Ankara.\n",
      "##################################################################################################\n",
      "\n",
      "\n",
      "\n",
      "##################################################################################################\n",
      "Indonesia\n",
      "..................................................................................................\n",
      "The capital of Indonesia is Jakarta.\n",
      "##################################################################################################\n",
      "\n",
      "\n",
      "\n",
      "##################################################################################################\n",
      "Thailand\n",
      "..................................................................................................\n",
      "The capital of Thailand is Bangkok.\n",
      "##################################################################################################\n",
      "\n",
      "\n",
      "\n"
     ]
    }
   ],
   "source": [
    "llm_inputs = torch.load(\"llm_inputs.pth\")\n",
    "llm_outputs = torch.load(\"llm_outputs.pth\")\n",
    "\n",
    "for i in range(len(llm_outputs)): \n",
    "    print(\"##################################################################################################\")\n",
    "    print(llm_inputs[i])\n",
    "    print(\"..................................................................................................\")\n",
    "    print(llm_outputs[i])\n",
    "    print(\"##################################################################################################\")\n",
    "    print(\"\\n\\n\")\n"
   ]
  }
 ],
 "metadata": {
  "kernelspec": {
   "display_name": "Python 3",
   "language": "python",
   "name": "python3"
  },
  "language_info": {
   "codemirror_mode": {
    "name": "ipython",
    "version": 3
   },
   "file_extension": ".py",
   "mimetype": "text/x-python",
   "name": "python",
   "nbconvert_exporter": "python",
   "pygments_lexer": "ipython3",
   "version": "3.10.0"
  }
 },
 "nbformat": 4,
 "nbformat_minor": 2
}
